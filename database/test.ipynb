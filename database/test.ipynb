{
 "cells": [
  {
   "cell_type": "code",
   "execution_count": 1,
   "metadata": {},
   "outputs": [],
   "source": [
    "from langchain_community.vectorstores import Chroma\n",
    "from langchain_community.document_loaders import PyMuPDFLoader\n",
    "from langchain.text_splitter import RecursiveCharacterTextSplitter\n",
    "from langchain_community.embeddings.openai import OpenAIEmbeddings\n",
    "from langchain_community.embeddings.huggingface import HuggingFaceEmbeddings\n",
    "from langchain_community.embeddings.sentence_transformer import SentenceTransformerEmbeddings"
   ]
  },
  {
   "cell_type": "code",
   "execution_count": 2,
   "metadata": {},
   "outputs": [],
   "source": [
    "import os\n",
    "from langchain_community.embeddings import ZhipuAIEmbeddings\n",
    "import dotenv\n",
    "\n",
    "dotenv.load_dotenv(dotenv.find_dotenv())\n",
    "embedding_key = os.getenv(\"ZHIPUAI_API_KEY\")\n",
    "embedding = ZhipuAIEmbeddings(api_key=embedding_key, model=\"embedding-3\")"
   ]
  },
  {
   "cell_type": "code",
   "execution_count": 3,
   "metadata": {},
   "outputs": [
    {
     "name": "stderr",
     "output_type": "stream",
     "text": [
      "/var/folders/tw/5jgn7f8j74zgq_93zn_8f2n40000gn/T/ipykernel_86668/525054440.py:2: LangChainDeprecationWarning: The class `Chroma` was deprecated in LangChain 0.2.9 and will be removed in 1.0. An updated version of the class exists in the :class:`~langchain-chroma package and should be used instead. To use it run `pip install -U :class:`~langchain-chroma` and import as `from :class:`~langchain_chroma import Chroma``.\n",
      "  vectordb = Chroma(\n"
     ]
    },
    {
     "name": "stdout",
     "output_type": "stream",
     "text": [
      "向量库中存储的数量：3\n"
     ]
    }
   ],
   "source": [
    "persist_directory = '../vector_db/chroma'\n",
    "vectordb = Chroma(\n",
    "    persist_directory=persist_directory,\n",
    "    embedding_function=embedding\n",
    ")\n",
    "print(f\"向量库中存储的数量：{vectordb._collection.count()}\")"
   ]
  },
  {
   "cell_type": "code",
   "execution_count": 4,
   "metadata": {},
   "outputs": [
    {
     "name": "stderr",
     "output_type": "stream",
     "text": [
      "Number of requested results 10 is greater than number of elements in index 3, updating n_results = 3\n"
     ]
    },
    {
     "name": "stdout",
     "output_type": "stream",
     "text": [
      "检索到的内容数：3\n"
     ]
    }
   ],
   "source": [
    "question=\"qq\"\n",
    "sim_docs = vectordb.similarity_search(question,k=10)\n",
    "print(f\"检索到的内容数：{len(sim_docs)}\")"
   ]
  },
  {
   "cell_type": "code",
   "execution_count": 5,
   "metadata": {},
   "outputs": [
    {
     "name": "stdout",
     "output_type": "stream",
     "text": [
      "检索到的第0个内容: \n",
      "另外，红衣秘书QQ 号未设置任何空间权限，所有同学均可\n",
      "通过弘毅学堂官方群找到红衣秘书账号，进入其空间进行查询，\n",
      "流程操作成本较低。\n",
      "二、进行统一的投诉结果反馈\n",
      "秘书处官方QQ 号每周日晚对本周活动室使用情况及同学\n",
      "投诉进行统一反馈，通过发布隐藏个人信息的聊天截图并进行解\n",
      "释的方式，每周进行一次集中反馈。内容包括：同学投诉反映，\n",
      "活动室使用超出规定时间（8：00—22：00）的次数等。同时对\n",
      "--------------\n",
      "检索到的第1个内容: \n",
      "梅园二舍活动室管理改革办法\n",
      "为提高活动室使用效率，规范活动室使用秩序，促进弘毅学\n",
      "堂书院文化建设，加强梅园二舍活动室作为学术生活空间涵养学\n",
      "生思想，提升综合素质的功能，根据《弘毅学堂书院制学术生活\n",
      "社区公共活动空间使用管理办法（2024 年）》，制定本活动室管\n",
      "理改革办法。\n",
      "一、建立活动室借用公示制度\n",
      "秘书处官方QQ 号红衣秘书在其QQ 空间开放专栏，于每天\n",
      "22：00 公示第二天梅园二舍活动室借用情况，包括借用的活动\n",
      "室，借用时段，借用单位/借用人。其中，借用人采取隐私信息\n",
      "保护，使用拼音简写（如ZS），或部分匿名（如张**或张*三）。\n",
      "建立公示制度，有助于防范出现未预约的同学谎称预约以排\n",
      "除其他同学使用的情况，也能方便只是想临时自由使用而未提前\n",
      "预约的同学在空闲的时间去到相应活动室。\n",
      "另外，红衣秘书QQ 号未设置任何空间权限，所有同学均可\n",
      "通过弘毅学堂官方群找到红衣秘书账号，进入其空间进行查询，\n",
      "流程操作成本较低。\n",
      "二、进行统一的投诉结果反馈\n",
      "秘书处官方QQ 号每周日晚对本周活动室使用情况及同学\n",
      "投诉进行统一反馈，通过发布隐藏个人信息的聊天截图并进行解\n",
      "--------------\n",
      "检索到的第2个内容: \n",
      "反馈的结果进行针对性提醒。\n",
      "结果公示有助于使投诉的同学们得到正向反馈，增强其主人\n",
      "意识和自我管理意识，加强同学们对学生会的信任与了解。\n",
      "三、附则\n",
      "1. 关于活动室用途的补充规定\n",
      "影音室、学术研讨室、琴房、读书吧、舞蹈室及教授工作室\n",
      "均设有专门用途，不应当用于进行娱乐活动。\n",
      "以上活动室在未预约情况下，遵循活动室专设专用原则，以\n",
      "活动室原本用途优先。\n",
      "各活动室原本用途，如影音室用于放映、观影等活动，学术\n",
      "研讨室用于自习、讨论等活动，琴房用于练琴、排练等活动，读\n",
      "书吧用于自习、阅读等活动，舞蹈室用于练舞、排练等活动，教\n",
      "授工作室用于研究、讨论等活动。\n",
      "2. 关于活动室使用时间的特殊情形\n",
      "学生会、辩论队等组织单位因例会、备赛等正当理由，存在\n",
      "例外情况可适当超出使用时间，在未影响同学休息及妨碍活动室\n",
      "管理秩序的前提下可不予通报反馈。\n",
      "3. 实施时间\n",
      "本活动室管理改革办法自2024 年10 月20 日开始实行。\n",
      "弘毅学堂学生会秘书处\n",
      "2024 年10 月19 日\n",
      "--------------\n"
     ]
    }
   ],
   "source": [
    "for i, sim_doc in enumerate(sim_docs):\n",
    "    print(f\"检索到的第{i}个内容: \\n{sim_doc.page_content}\", end=\"\\n--------------\\n\")"
   ]
  }
 ],
 "metadata": {
  "kernelspec": {
   "display_name": ".venv",
   "language": "python",
   "name": "python3"
  },
  "language_info": {
   "codemirror_mode": {
    "name": "ipython",
    "version": 3
   },
   "file_extension": ".py",
   "mimetype": "text/x-python",
   "name": "python",
   "nbconvert_exporter": "python",
   "pygments_lexer": "ipython3",
   "version": "3.10.11"
  }
 },
 "nbformat": 4,
 "nbformat_minor": 2
}
